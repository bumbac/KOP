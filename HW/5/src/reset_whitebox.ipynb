{
 "cells": [
  {
   "cell_type": "code",
   "execution_count": 1,
   "id": "d6ae8477",
   "metadata": {},
   "outputs": [
    {
     "data": {
      "application/vnd.webio.node+json": {
       "children": [],
       "instanceArgs": {
        "namespace": "html",
        "tag": "div"
       },
       "nodeType": "DOM",
       "props": {},
       "type": "node"
      },
      "text/html": [
       "<div style=\"padding: 1em; background-color: #f8d6da; border: 1px solid #f5c6cb; font-weight: bold;\">\n",
       "<p>The WebIO Jupyter extension was not detected. See the\n",
       "<a href=\"https://juliagizmos.github.io/WebIO.jl/latest/providers/ijulia/\" target=\"_blank\">\n",
       "    WebIO Jupyter integration documentation\n",
       "</a>\n",
       "for more information.\n",
       "</div>\n"
      ],
      "text/plain": [
       "WebIO._IJuliaInit()"
      ]
     },
     "metadata": {
      "application/vnd.webio.node+json": {
       "kernelId": "c8180ef2-a1a6-4602-8522-eaa39de2b1e4"
      }
     },
     "output_type": "display_data"
    }
   ],
   "source": [
    "using PlotlyJS\n",
    "using Statistics\n",
    "using JLD2\n",
    "using BenchmarkTools\n"
   ]
  },
  {
   "cell_type": "code",
   "execution_count": 2,
   "id": "6526cd8b",
   "metadata": {},
   "outputs": [
    {
     "name": "stdout",
     "output_type": "stream",
     "text": [
      "RESTART init t 96.99675324675324\n",
      "1\n",
      "1\n"
     ]
    },
    {
     "ename": "LoadError",
     "evalue": "\u001b[91mInterruptException:\u001b[39m",
     "output_type": "error",
     "traceback": [
      "\u001b[91mInterruptException:\u001b[39m",
      "",
      "Stacktrace:",
      " [1] cost(::Tuple{problemSAT,Array{Bool,1}}, ::Bool) at /home/sutymate/School/KOP/HW/5/src/sat.jl:70",
      " [2] cost at /home/sutymate/School/KOP/HW/5/src/sat.jl:66 [inlined]",
      " [3] improvement(::Tuple{problemSAT,Array{Bool,1}}, ::Tuple{problemSAT,Array{Bool,1}}) at /home/sutymate/School/KOP/HW/5/src/sat.jl:54",
      " [4] sa(::Tuple{Array{Int64,2},Array{Int64,1},Int64,Int64,SubString{String}}; T::Float64, frozen_limit::Float64, inner_cycle::Int64, random::Bool, cooling_factor::Float64, restart::Bool, inner_cycle_alpha::Float64) at /home/sutymate/School/KOP/HW/5/src/sat.jl:145",
      " [5] top-level scope at ./In[2]:33",
      " [6] include_string(::Function, ::Module, ::String, ::String) at ./loading.jl:1091"
     ]
    }
   ],
   "source": [
    "include(\"../src/sat.jl\")\n",
    "include(\"../../2/src/file_loader.jl\")\n",
    "A = \"/home/sutymate/School/KOP/HW/5/data/wuf-A1/wuf20-88-A1\"\n",
    "A_sol = \"/home/sutymate/School/KOP/HW/5/data/wuf-A1/wuf20-88-A-opt.dat\"\n",
    "Q = \"/home/sutymate/School/KOP/HW/5/data/wuf-Q1/wuf20-78-Q1\"\n",
    "Q_sol = \"/home/sutymate/School/KOP/HW/5/data/wuf-Q1/wuf20-78-Q-opt.dat\"\n",
    "M = \"/home/sutymate/School/KOP/HW/5/data/wuf-M1/wuf20-78-M1\"\n",
    "M_sol = \"/home/sutymate/School/KOP/HW/5/data/wuf-M1/wuf20-78-M-opt.dat\"\n",
    "N = \"/home/sutymate/School/KOP/HW/5/data/wuf-N1/wuf20-78-N1\"\n",
    "N_sol = \"/home/sutymate/School/KOP/HW/5/data/wuf-N1/wuf20-78-N-opt.dat\"\n",
    "R = \"/home/sutymate/School/KOP/HW/5/data/wuf-R1/wuf20-78-R1\"\n",
    "R_sol = \"/home/sutymate/School/KOP/HW/5/data/wuf-R1/wuf20-78-R-opt.dat\"\n",
    "\n",
    "names = [(A, A_sol, \"A\"), (Q, Q_sol, \"Q\"), (M, M_sol, \"M\"), (N, N_sol, \"N\"), (R, R_sol, \"R\")]\n",
    "cnt = 1\n",
    "ax = []\n",
    "axs = []\n",
    "axr = []\n",
    "x = []\n",
    "xs = []\n",
    "xr = []\n",
    "for problem in names\n",
    "    instances = readFileSat(problem[1])\n",
    "    solutions = readSolutionSat(problem[2])\n",
    "    restart = []\n",
    "    no_restart = []\n",
    "    stepsr = []\n",
    "    stepsnr = []\n",
    "    r = []\n",
    "    nr = []\n",
    "    for instance in instances[1:100]\n",
    "        sol = solutions[instance[5]]\n",
    "        profit, absolute, y, steps, n_r = sa(instance, restart=true)\n",
    "        push!(restart, 1 - absolute/sol)    \n",
    "        push!(stepsr, steps)\n",
    "        push!(r, n_r)\n",
    "        println(cnt)\n",
    "        profit, absolute, y, steps, n_r = sa(instance, restart=false)\n",
    "        push!(no_restart, 1 - absolute/sol)\n",
    "        push!(stepsnr, steps)\n",
    "        push!(nr, n_r)\n",
    "    end\n",
    "    push!(x, (restart, no_restart))\n",
    "    push!(xs, (stepsr, stepsnr))\n",
    "    push!(xr, (r, nr))\n",
    "    push!(ax, box(y=restart, name=problem[3]*\" res\"))\n",
    "    push!(ax, box(y=no_restart, name=problem[3]*\" no res\"))\n",
    "    push!(axs, box(y=stepsr, name=problem[3]*\" res\"))\n",
    "    push!(axs, box(y=stepsnr, name=problem[3]*\" no res\"))\n",
    "    push!(axr, box(y=r, name=problem[3]*\" res\"))\n",
    "    push!(axr, box(y=nr, name=problem[3]*\" no res\"))\n",
    "end\n",
    "display(plot([p for p in ax], Layout(title=\"Error in dataset.\")))\n",
    "display(plot([p for p in axs], Layout(title=\"N. of iterations.\")))\n",
    "display(plot([p for p in axr], Layout(title=\"N. of restarts.\")))"
   ]
  },
  {
   "cell_type": "code",
   "execution_count": null,
   "id": "75c1c7b6",
   "metadata": {},
   "outputs": [],
   "source": [
    "include(\"../src/sat.jl\")\n",
    "include(\"../../2/src/file_loader.jl\")\n",
    "A = \"/home/sutymate/School/KOP/HW/5/data/wuf-A1/wuf20-88-A1\"\n",
    "A_sol = \"/home/sutymate/School/KOP/HW/5/data/wuf-A1/wuf20-88-A-opt.dat\"\n",
    "Q = \"/home/sutymate/School/KOP/HW/5/data/wuf-Q1/wuf20-78-Q1\"\n",
    "Q_sol = \"/home/sutymate/School/KOP/HW/5/data/wuf-Q1/wuf20-78-Q-opt.dat\"\n",
    "M = \"/home/sutymate/School/KOP/HW/5/data/wuf-M1/wuf20-78-M1\"\n",
    "M_sol = \"/home/sutymate/School/KOP/HW/5/data/wuf-M1/wuf20-78-M-opt.dat\"\n",
    "N = \"/home/sutymate/School/KOP/HW/5/data/wuf-N1/wuf20-78-N1\"\n",
    "N_sol = \"/home/sutymate/School/KOP/HW/5/data/wuf-N1/wuf20-78-N-opt.dat\"\n",
    "R = \"/home/sutymate/School/KOP/HW/5/data/wuf-R1/wuf20-78-R1\"\n",
    "R_sol = \"/home/sutymate/School/KOP/HW/5/data/wuf-R1/wuf20-78-R-opt.dat\"\n",
    "\n",
    "names = [(A, A_sol, \"A\"), (Q, Q_sol, \"Q\"), (M, M_sol, \"M\"), (N, N_sol, \"N\"), (R, R_sol, \"R\")]\n",
    "cnt = 1\n",
    "alphaax = []\n",
    "for alpha in 1:2\n",
    "    for problem in names[1:2]\n",
    "        instances = readFileSat(problem[1])\n",
    "        solutions = readSolutionSat(problem[2])\n",
    "        alpha_err = []\n",
    "        for instance in instances[1:10]\n",
    "            sol = solutions[instance[5]]\n",
    "            profit, absolute, y, steps, n_r = sa(instance, inner_cycle_alpha=alpha*0.1)\n",
    "            push!(alpha_err, 1 - absolute/sol)    \n",
    "        end\n",
    "        println(cnt)\n",
    "        cnt += 1\n",
    "        push!(alphaax, box(y=alpha_err, name=problem[3]*\" \"*string(alpha*0.1)))\n",
    "    end\n",
    "    display(plot([p for p in alphaax], Layout(title=\"Error in dataset.\")))\n",
    "end"
   ]
  },
  {
   "cell_type": "code",
   "execution_count": null,
   "id": "9f7c257d",
   "metadata": {},
   "outputs": [],
   "source": []
  }
 ],
 "metadata": {
  "@webio": {
   "lastCommId": "ba2ffdf611eb4043afac1128ae5957b6",
   "lastKernelId": "c8180ef2-a1a6-4602-8522-eaa39de2b1e4"
  },
  "kernelspec": {
   "display_name": "Julia 1.5.3",
   "language": "julia",
   "name": "julia-1.5"
  },
  "language_info": {
   "file_extension": ".jl",
   "mimetype": "application/julia",
   "name": "julia",
   "version": "1.5.3"
  }
 },
 "nbformat": 4,
 "nbformat_minor": 5
}
