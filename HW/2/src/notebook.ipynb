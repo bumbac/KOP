{
 "cells": [
  {
   "cell_type": "code",
   "execution_count": 1,
   "id": "a3158083",
   "metadata": {},
   "outputs": [
    {
     "data": {
      "application/vnd.webio.node+json": {
       "children": [],
       "instanceArgs": {
        "namespace": "html",
        "tag": "div"
       },
       "nodeType": "DOM",
       "props": {},
       "type": "node"
      },
      "text/html": [
       "<div style=\"padding: 1em; background-color: #f8d6da; border: 1px solid #f5c6cb; font-weight: bold;\">\n",
       "<p>The WebIO Jupyter extension was not detected. See the\n",
       "<a href=\"https://juliagizmos.github.io/WebIO.jl/latest/providers/ijulia/\" target=\"_blank\">\n",
       "    WebIO Jupyter integration documentation\n",
       "</a>\n",
       "for more information.\n",
       "</div>\n"
      ],
      "text/plain": [
       "WebIO._IJuliaInit()"
      ]
     },
     "metadata": {},
     "output_type": "display_data"
    }
   ],
   "source": [
    "using JLD2\n",
    "using DataFrames\n",
    "using Statistics\n",
    "using PlotlyJS"
   ]
  },
  {
   "cell_type": "code",
   "execution_count": null,
   "id": "895d9b6d",
   "metadata": {},
   "outputs": [],
   "source": [
    "function analyze()\n",
    "#    bench_bit = load_object(\"bench_bit.jld2\")\n",
    "#    bench_bit_zk = load_object(\"bench_bit_zk.jld2\")\n",
    "#    bench_eps = load_object(\"bench_eps.jld2\")\n",
    "#    bench_eps_zk = load_object(\"../out/bench_eps_zk.jld2\")\n",
    "   decompose4 = load_object(\"../out/decompose4-30.jld2\")\n",
    "   bits4 = load_object(\"../out/bits4-30.jld2\")\n",
    "   eps4 = load_object(\"../out/eps4-30.jld2\")\n",
    "   n_values = [4, 10, 15, 20, 25, 30, 35, 40]\n",
    "   n_4 = [4, 10, 15, 20, 25, 30]\n",
    "   bit = [1, 2, 4, 8, 16]\n",
    "   epsilon = [0.01, 0.05, 0.1, 0.3, 0.5]\n",
    "#    display(bench_bit)\n",
    "#    println()\n",
    "#    display(bits4)\n",
    "#    println()\n",
    "    solutions = [bits4, eps4]\n",
    "    x = []\n",
    "    name_i = 1\n",
    "    names = [\"red\", \"blue\"]\n",
    "    for solution in solutions\n",
    "        df = DataFrame(;[Symbol(k)=>convert(Array{Float64,1}, v) for (k,v) in solution]...)\n",
    "        for k in n_4\n",
    "            push!(x, \n",
    "                box(y=df[!,string(k)], name=k, marker_color=names[name_i]))#names[name_i]))\n",
    "            \n",
    "        end    \n",
    "        name_i += 1\n",
    "    end\n",
    "    layout = Layout(title=\"Price decomposition\", xaxis_title=\"Number of items\", yaxis_title=\"Time in seconds\", showlegend=true)\n",
    "    \n",
    "    \n",
    "\n",
    "    p = plot([x[i] for i in 1:size(x)[1]], layout)\n",
    "    savefig(p, \"../out/random.png\")    \n",
    "    \n",
    "end\n",
    "analyze()"
   ]
  },
  {
   "cell_type": "code",
   "execution_count": 18,
   "id": "3f0dae8d",
   "metadata": {},
   "outputs": [
    {
     "data": {
      "text/plain": [
       "Dict{Any,Any} with 5 entries:\n",
       "  4 => Dict{Any,Any}(20=>Any[0.0568445, 0.051517, 0.0511088, 0.0491602, 0.04960…\n",
       "  2 => Dict{Any,Any}(20=>Any[0.347357, 0.34292, 0.338146, 0.337272, 0.346254, 0…\n",
       "  3 => Dict{Any,Any}(20=>Any[0.163357, 0.158655, 0.164435, 0.163132, 0.165944, …\n",
       "  5 => Dict{Any,Any}(20=>Any[0.0339321, 0.028122, 0.0295012, 0.0275282, 0.02765…\n",
       "  1 => Dict{Any,Any}(20=>Any[3.50328, 3.4481, 3.43551, 3.46948, 3.44408, 3.4565…"
      ]
     },
     "metadata": {},
     "output_type": "display_data"
    },
    {
     "data": {
      "text/plain": [
       "\"../out/redux_zk.png\""
      ]
     },
     "execution_count": 18,
     "metadata": {},
     "output_type": "execute_result"
    }
   ],
   "source": [
    "function analyze()\n",
    "#    bench_bit = load_object(\"bench_bit.jld2\")\n",
    "   bench_bit_zk = load_object(\"../out/bench_bit_zk.jld2\")\n",
    "#    bench_eps = load_object(\"bench_eps.jld2\")\n",
    "   bench_eps_zk = load_object(\"../out/bench_eps_zk.jld2\")\n",
    "#    decompose4 = load_object(\"../out/decompose4-30.jld2\")\n",
    "#    bits4 = load_object(\"../out/bits4-30.jld2\")\n",
    "#    eps4 = load_object(\"../out/eps4-30.jld2\")\n",
    "    \n",
    "    bnb_zk = load_object(\"../out/bnb_zk.jld2\")\n",
    "    simple_zk = load_object(\"../out/greedy_zk.jld2\")\n",
    "    redux_zk = load_object(\"../out/redux_zk.jld2\")\n",
    "   n_values = [4, 10, 15, 20, 25, 30, 35, 40]\n",
    "   n_4 = [4, 10, 15, 20, 25, 30]\n",
    "   bits = [1, 2, 4, 8, 16]\n",
    "   epsilon = [0.01, 0.05, 0.1, 0.3, 0.5]\n",
    "   display(bench_eps_zk)\n",
    "#    println()\n",
    "    name_i = 1\n",
    "    names = [\"red\", \"blue\", \"yellow\", \"black\", \"green\"]\n",
    "    solutions = [simple_zk, redux_zk, bench_bit_zk[5]]\n",
    "    x = []\n",
    "    for solution in solutions\n",
    "        df = DataFrame(;[Symbol(k)=>convert(Array{Float64,1}, v) for (k,v) in solution]...)\n",
    "        for k in n_values\n",
    "            push!(x, box(y=df[!,string(k)], name=k, marker_color=names[name_i]))#names[name_i]))\n",
    "        end    \n",
    "        name_i += 1\n",
    "    end\n",
    "    layout = Layout(title=\"Comparison of greedy(red) and redux(blue) heuristics.\", xaxis_title=\"Number of items\", yaxis_title=\"Time in seconds\", showlegend=false)\n",
    "    \n",
    "    \n",
    "\n",
    "    p = plot([x[i] for i in 1:size(x)[1]], layout)\n",
    "    savefig(p, \"../out/redux_zk.png\")     \n",
    "end\n",
    "analyze()"
   ]
  },
  {
   "cell_type": "code",
   "execution_count": 21,
   "id": "a34e2105",
   "metadata": {},
   "outputs": [
    {
     "data": {
      "text/plain": [
       "readSolution (generic function with 1 method)"
      ]
     },
     "execution_count": 21,
     "metadata": {},
     "output_type": "execute_result"
    }
   ],
   "source": [
    "function readSolution(filename::String)\n",
    "    solution = []\n",
    "    line = 0\n",
    "    open(filename) do f\n",
    "     while !eof(f)\n",
    "            s = readline(f)\n",
    "            line += 1\n",
    "            pieces = split(s, ' ')\n",
    "            ID = 0\n",
    "            n = 0\n",
    "            B = 0\n",
    "            try\n",
    "                ID = parse(Int64, pieces[1])\n",
    "                n = parse(Int64, pieces[2])\n",
    "                B = parse(Float64, pieces[3])\n",
    "            catch e\n",
    "                println(\"ERROR in parsing definition\")\n",
    "            end\n",
    "            push!(solution, (ID, n, B))\n",
    "    end\n",
    "    return solution\n",
    "end\n",
    "end\n"
   ]
  },
  {
   "cell_type": "code",
   "execution_count": 39,
   "id": "8e6997ea",
   "metadata": {},
   "outputs": [
    {
     "data": {
      "text/plain": [
       "500-element Array{Any,1}:\n",
       " 0.0008849557522123894\n",
       " 0.0003370407819346141\n",
       " 1.0\n",
       " 0.014084507042253521\n",
       " 0.08372598767669445\n",
       " 0.0006090133982947625\n",
       " 0.00021701388888888888\n",
       " 0.00022609088853719196\n",
       " 0.00028968713789107763\n",
       " 0.0013422818791946308\n",
       " 0.0002094240837696335\n",
       " 0.000649772579597141\n",
       " 0.0001724435247456458\n",
       " ⋮\n",
       " 1.0\n",
       " 0.00034083162917518747\n",
       " 0.00023501762632197415\n",
       " 0.00018800526414739614\n",
       " 0.0004127115146512588\n",
       " 0.0004589261128958238\n",
       " 0.00035161744022503517\n",
       " 0.000321853878339234\n",
       " 0.00022588660492432798\n",
       " 0.00046598322460391424\n",
       " 0.0004909180166912126\n",
       " 0.1792299349240781"
      ]
     },
     "metadata": {},
     "output_type": "display_data"
    },
    {
     "data": {
      "text/plain": [
       "500-element Array{Any,1}:\n",
       " 0.016570471048221933\n",
       " 0.054491899852724596\n",
       " 0.0005341880341880342\n",
       " 7.046719751955464e-5\n",
       " 0.030165395492330105\n",
       " 0.00010256410256410256\n",
       " 9.396729937981582e-5\n",
       " 8.167265599477295e-5\n",
       " 0.045847425779782035\n",
       " 0.00010237510237510238\n",
       " 0.00019952114924181964\n",
       " 0.0001397624039133473\n",
       " 0.00011485012059262662\n",
       " ⋮\n",
       " 0.00012528188423953897\n",
       " 0.0001838235294117647\n",
       " 6.565557087518876e-5\n",
       " 0.00013747594171020073\n",
       " 0.00011950286806883365\n",
       " 7.962417389919579e-5\n",
       " 7.329766180458844e-5\n",
       " 0.012756052141527002\n",
       " 0.004406290359340576\n",
       " 0.056079170593779454\n",
       " 0.21161048689138576\n",
       " 0.00025839793281653745"
      ]
     },
     "metadata": {},
     "output_type": "display_data"
    },
    {
     "data": {
      "text/plain": [
       "500-element Array{Any,1}:\n",
       " 7.471607890017931e-5\n",
       " 6.006006006006006e-5\n",
       " 0.0355981096176272\n",
       " 0.00013090718680455556\n",
       " 5.501760563380282e-5\n",
       " 0.00020729684908789387\n",
       " 0.019484929216946143\n",
       " 4.864996351252737e-5\n",
       " 5.015799769273211e-5\n",
       " 5.494807407000384e-5\n",
       " 0.049858757062146895\n",
       " 8.36050497450046e-5\n",
       " 5.6303136084679915e-5\n",
       " ⋮\n",
       " 0.0008703220191470844\n",
       " 8.163265306122449e-5\n",
       " 6.988608568034104e-5\n",
       " 0.00011241007194244605\n",
       " 5.667327854916407e-5\n",
       " 0.02034048198098607\n",
       " 5.0779464784441175e-5\n",
       " 7.137249304118193e-5\n",
       " 5.446919766871834e-5\n",
       " 0.03107131297874636\n",
       " 6.044487427466151e-5\n",
       " 4.3005203629639184e-5"
      ]
     },
     "metadata": {},
     "output_type": "display_data"
    },
    {
     "data": {
      "text/plain": [
       "500-element Array{Any,1}:\n",
       " 5.6941122878943175e-5\n",
       " 4.7732696897374704e-5\n",
       " 0.005393173675278144\n",
       " 4.797083373309028e-5\n",
       " 0.06901203819012038\n",
       " 3.769886149438287e-5\n",
       " 3.6749843813163795e-5\n",
       " 5.088799552185639e-5\n",
       " 0.02064839830181397\n",
       " 4.278807068589277e-5\n",
       " 0.0015063370039476419\n",
       " 5.1150895140664964e-5\n",
       " 0.020633397312859885\n",
       " ⋮\n",
       " 0.001407720234126102\n",
       " 6.622078008078935e-5\n",
       " 4.824857666698833e-5\n",
       " 4.3122035360069e-5\n",
       " 4.2394437849754115e-5\n",
       " 1.0\n",
       " 8.031483414986748e-5\n",
       " 0.00020610057708161583\n",
       " 0.08438548825315646\n",
       " 0.0004605593702897337\n",
       " 3.772873042822109e-5\n",
       " 0.019351402532844123"
      ]
     },
     "metadata": {},
     "output_type": "display_data"
    },
    {
     "data": {
      "text/plain": [
       "500-element Array{Any,1}:\n",
       " 4.5888399412628485e-5\n",
       " 0.06432976813178234\n",
       " 0.00012532898859506203\n",
       " 0.00016803333781422234\n",
       " 3.5378192881907595e-5\n",
       " 0.015850208791702215\n",
       " 3.5303254960107325e-5\n",
       " 0.0001312852829197847\n",
       " 0.0003183699458771092\n",
       " 3.6370249136206584e-5\n",
       " 0.0029774327294988454\n",
       " 3.264027156705944e-5\n",
       " 3.497359493582345e-5\n",
       " ⋮\n",
       " 3.88681592039801e-5\n",
       " 0.005765246374200522\n",
       " 0.08035641960307817\n",
       " 3.484563384207959e-5\n",
       " 3.343251646551436e-5\n",
       " 4.4294826364280654e-5\n",
       " 9.471490812653911e-5\n",
       " 3.2037932912568484e-5\n",
       " 9.110787172011662e-5\n",
       " 0.003912117084075587\n",
       " 3.6845983787767136e-5\n",
       " 3.909151323247723e-5"
      ]
     },
     "metadata": {},
     "output_type": "display_data"
    },
    {
     "data": {
      "text/plain": [
       "500-element Array{Any,1}:\n",
       " 0.04447085313985489\n",
       " 3.1350910743957114e-5\n",
       " 4.588418830870882e-5\n",
       " 2.558526288857618e-5\n",
       " 0.0017563797913007543\n",
       " 0.010021629416005769\n",
       " 2.8076480332425527e-5\n",
       " 3.168065895770632e-5\n",
       " 8.503401360544217e-5\n",
       " 1.0\n",
       " 0.030176899063475548\n",
       " 0.015349077535637214\n",
       " 3.271180896303566e-5\n",
       " ⋮\n",
       " 0.002560546249866638\n",
       " 0.0010528532322594231\n",
       " 3.7837224261228196e-5\n",
       " 2.478744763651687e-5\n",
       " 3.155967935365777e-5\n",
       " 5.044136191677175e-5\n",
       " 0.01067790251363597\n",
       " 0.028894388335228414\n",
       " 0.06517634619741712\n",
       " 2.5455656246818042e-5\n",
       " 0.021779843240618713\n",
       " 0.007572039542873168"
      ]
     },
     "metadata": {},
     "output_type": "display_data"
    },
    {
     "data": {
      "text/plain": [
       "500-element Array{Any,1}:\n",
       " 0.007907856283307547\n",
       " 0.003847798204360838\n",
       " 2.652027475004641e-5\n",
       " 0.005269699229430773\n",
       " 4.65397682319542e-5\n",
       " 0.08385293485271984\n",
       " 2.8220685762664032e-5\n",
       " 0.0005820186858630724\n",
       " 0.011267236579214569\n",
       " 2.542265158256006e-5\n",
       " 0.004139596389352038\n",
       " 2.567987468221155e-5\n",
       " 2.1077925089054234e-5\n",
       " ⋮\n",
       " 2.3107496071725667e-5\n",
       " 2.091306439132526e-5\n",
       " 0.03873303167420814\n",
       " 0.0013449576098181907\n",
       " 3.605422555523507e-5\n",
       " 0.002222374962769492\n",
       " 6.180087757246153e-5\n",
       " 6.68002672010688e-5\n",
       " 0.020525595593137082\n",
       " 0.0011098113320735475\n",
       " 3.832592365476008e-5\n",
       " 0.008087458343493456"
      ]
     },
     "metadata": {},
     "output_type": "display_data"
    },
    {
     "data": {
      "text/plain": [
       "500-element Array{Any,1}:\n",
       " 2.586117720078618e-5\n",
       " 0.0033677047529771203\n",
       " 2.2987448852926302e-5\n",
       " 3.4259481311452945e-5\n",
       " 0.004300141166250407\n",
       " 0.0030658666842486976\n",
       " 4.73260766682442e-5\n",
       " 0.002390454810010809\n",
       " 0.00835295575659933\n",
       " 2.2562158747348947e-5\n",
       " 2.315726095917375e-5\n",
       " 0.0026331958219959622\n",
       " 2.543105640608311e-5\n",
       " ⋮\n",
       " 0.007042431279501224\n",
       " 0.0016906377869796388\n",
       " 2.1109516169889387e-5\n",
       " 0.03912561381276731\n",
       " 0.00783058047744349\n",
       " 0.0070588774551371665\n",
       " 3.734827264239029e-5\n",
       " 2.1951487213258697e-5\n",
       " 0.0011756407241946861\n",
       " 2.2726756210086133e-5\n",
       " 7.993605115907275e-5\n",
       " 0.00013848497438027975"
      ]
     },
     "metadata": {},
     "output_type": "display_data"
    },
    {
     "name": "stdout",
     "output_type": "stream",
     "text": [
      "501\n",
      "500\n",
      "501\n",
      "500\n",
      "501\n",
      "500\n",
      "501\n",
      "500\n",
      "501\n",
      "500\n",
      "501\n",
      "500\n",
      "501\n",
      "500\n",
      "501\n",
      "500\n"
     ]
    }
   ],
   "source": [
    "function err()\n",
    "    simple_err = load_object(\"../out/simple_err_zk.jld2\")\n",
    "    redux_err = load_object(\"../out/redux_err_zk.jld2\")\n",
    "    bits_err = load_object(\"../out/bits_err_zk.jld2\")\n",
    "    eps_err = load_object(\"../out/eps_err_zk.jld2\")\n",
    "    \n",
    "    \n",
    "    n_values = [4, 10, 15, 20, 25, 30, 35, 40]\n",
    "    bits = [1, 2, 4, 8, 16]\n",
    "    epsilon = [0.01, 0.05, 0.1, 0.3, 0.5]\n",
    "    solutions = Dict()\n",
    "    for n in n_values\n",
    "        filename = \"../data/NK/NK\"*string(n)*\"_sol.dat\"\n",
    "        solutions[n] = readSolution(filename)\n",
    "    end\n",
    "    \n",
    "    perc = Dict()\n",
    "    for n in n_values\n",
    "        perc[n] = []\n",
    "        for i in 1:500\n",
    "            push!(perc[n], (simple_err[n][i] + 1) / (solutions[n][i][3] + 1))\n",
    "        end\n",
    "        display(perc[n])\n",
    "    end\n",
    "    \n",
    "# #    println()\n",
    "#     name_i = 1\n",
    "#     names = [\"red\", \"blue\", \"yellow\", \"black\", \"green\"]\n",
    "#     solutions = [simple_zk, redux_zk, bench_bit_zk[5]]\n",
    "#     x = []\n",
    "#     for solution in solutions\n",
    "#         df = DataFrame(;[Symbol(k)=>convert(Array{Float64,1}, v) for (k,v) in solution]...)\n",
    "#         for k in n_values\n",
    "#             push!(x, box(y=df[!,string(k)], name=k, marker_color=names[name_i]))#names[name_i]))\n",
    "#         end    \n",
    "#         name_i += 1\n",
    "#     end\n",
    "#     layout = Layout(title=\"Comparison of greedy(red) and redux(blue) heuristics.\", xaxis_title=\"Number of items\", yaxis_title=\"Time in seconds\", showlegend=false)\n",
    "    \n",
    "    \n",
    "\n",
    "#     p = plot([x[i] for i in 1:size(x)[1]], layout)\n",
    "#     savefig(p, \"../out/redux_zk.png\")     \n",
    "end\n",
    "err()"
   ]
  },
  {
   "cell_type": "code",
   "execution_count": null,
   "id": "bad02548",
   "metadata": {},
   "outputs": [],
   "source": []
  }
 ],
 "metadata": {
  "kernelspec": {
   "display_name": "Julia 1.5.3",
   "language": "julia",
   "name": "julia-1.5"
  },
  "language_info": {
   "file_extension": ".jl",
   "mimetype": "application/julia",
   "name": "julia",
   "version": "1.5.3"
  }
 },
 "nbformat": 4,
 "nbformat_minor": 5
}
