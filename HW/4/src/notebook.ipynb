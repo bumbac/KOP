{
 "cells": [
  {
   "cell_type": "code",
   "execution_count": 1,
   "id": "a3158083",
   "metadata": {
    "collapsed": true
   },
   "outputs": [
    {
     "data": {
      "application/vnd.webio.node+json": {
       "children": [],
       "instanceArgs": {
        "namespace": "html",
        "tag": "div"
       },
       "nodeType": "DOM",
       "props": {},
       "type": "node"
      },
      "text/html": [
       "<div style=\"padding: 1em; background-color: #f8d6da; border: 1px solid #f5c6cb; font-weight: bold;\">\n",
       "<p>The WebIO Jupyter extension was not detected. See the\n",
       "<a href=\"https://juliagizmos.github.io/WebIO.jl/latest/providers/ijulia/\" target=\"_blank\">\n",
       "    WebIO Jupyter integration documentation\n",
       "</a>\n",
       "for more information.\n",
       "</div>\n"
      ],
      "text/plain": [
       "WebIO._IJuliaInit()"
      ]
     },
     "metadata": {},
     "output_type": "display_data"
    }
   ],
   "source": [
    "using JLD2\n",
    "using DataFrames\n",
    "using Statistics\n",
    "using PlotlyJS"
   ]
  },
  {
   "cell_type": "code",
   "execution_count": 39,
   "id": "dab43200",
   "metadata": {},
   "outputs": [
    {
     "data": {
      "text/plain": [
       "\"../out/decom-comp.png\""
      ]
     },
     "execution_count": 39,
     "metadata": {},
     "output_type": "execute_result"
    }
   ],
   "source": [
    "function analyze()\n",
    "    bnbzk = load_object(\"../out/bnb2_zk.jld2\")\n",
    "    bnb = load_object(\"../out/bnb2.jld2\")\n",
    "    decomposezk = load_object(\"../out/decompose2_zk.jld2\")\n",
    "    decompose = load_object(\"../out/decompose2.jld2\")\n",
    "    bitszk = load_object(\"../out/bits2_zk.jld2\")\n",
    "    bits = load_object(\"../out/bits2.jld2\")\n",
    "    epszk = load_object(\"../out/eps2_zk.jld2\")\n",
    "    eps = load_object(\"../out/eps2.jld2\")\n",
    "   n_values = [4, 10, 15, 20, 25, 30, 35, 40]\n",
    "    method_name = [\"BnB\", \"Price decomposition\", \"FPTAS bit\", \"FPTAS eps\"]\n",
    "    res_rel = []\n",
    "    push!(res_rel, scatter(x=n_values, y=collect(values(epszk)), mode=\"lines\", name=method_name[4]*\" ZK\"))\n",
    "    push!(res_rel, scatter(x=n_values, y=collect(values(eps)), mode=\"lines\", name=method_name[4]*\" NK\"))\n",
    "     p = plot(\n",
    "        [res_rel[i] for i in 1:size(res_rel)[1]],\n",
    "        Layout(title = \"NK and ZK dataset\", yaxis_title=\"Computation time in seconds.\", xaxis_title=\"Number of items.\")\n",
    "        )\n",
    "\n",
    "     #, res_rel[i] for i in 1:size(res_rel)[1]],\n",
    "    savefig(p, \"../out/decom-comp.png\")\n",
    "end\n",
    "analyze()"
   ]
  },
  {
   "cell_type": "code",
   "execution_count": 34,
   "id": "895d9b6d",
   "metadata": {},
   "outputs": [],
   "source": [
    "function analyze()\n",
    "#    bench_bit = load_object(\"bench_bit.jld2\")\n",
    "#    bench_bit_zk = load_object(\"bench_bit_zk.jld2\")\n",
    "#    bench_eps = load_object(\"bench_eps.jld2\")\n",
    "#    bench_eps_zk = load_object(\"../out/bench_eps_zk.jld2\")\n",
    "   bnb_zk = load_object(\"../out/bnb_zk.jld2\")\n",
    "   decompose4 = load_object(\"../out/decompose4-30.jld2\")\n",
    "   bits4 = load_object(\"../out/bits4-30.jld2\")\n",
    "   eps4 = load_object(\"../out/eps4-30.jld2\")\n",
    "   n_values = [4, 10, 15, 20, 25, 30, 35, 40]\n",
    "   n_4 = [4, 10, 15, 20]#, 25, 30]\n",
    "   bit = [1, 2, 4, 8, 16]\n",
    "   epsilon = [0.01, 0.05, 0.1, 0.3, 0.5]\n",
    "#    display(bench_bit)\n",
    "#    println()\n",
    "#    display(bits4)\n",
    "#    println()\n",
    "    solutions = [bnb_zk, decompose4]\n",
    "    name_i = 1\n",
    "    names = [\"red\", \"blue\"]\n",
    "    methods = [\"B&B\", \"price decomposition\"]\n",
    "    for solution in solutions\n",
    "        x = []\n",
    "        df = DataFrame(;[Symbol(k)=>convert(Array{Float64,1}, v) for (k,v) in solution]...)\n",
    "        for k in n_4\n",
    "            push!(x, \n",
    "                box(y=df[!,string(k)], name=k, marker_color=names[name_i]))#names[name_i]))\n",
    "            \n",
    "        end    \n",
    "        layout = Layout(title=\"Set of 500 instances of ZKC dataset using \"*methods[name_i], yaxis_type = \"log\", xaxis_title=\"Number of items\", yaxis_title=\"Log time in seconds\", showlegend=false)\n",
    "        p = plot([x[i] for i in 1:size(x)[1]], layout)\n",
    "        savefig(p, \"../out/NKyeeehaw\"*string(methods[name_i])*\".png\")    \n",
    "        name_i += 1\n",
    "    end\n",
    "\n",
    "    \n",
    "end\n",
    "analyze()"
   ]
  },
  {
   "cell_type": "code",
   "execution_count": 63,
   "id": "3f0dae8d",
   "metadata": {},
   "outputs": [
    {
     "data": {
      "text/plain": [
       "\"../out/abc.png\""
      ]
     },
     "execution_count": 63,
     "metadata": {},
     "output_type": "execute_result"
    }
   ],
   "source": [
    "function analyze()\n",
    "#    bench_bit = load_object(\"bench_bit.jld2\")\n",
    "#    bench_bit_zk = load_object(\"../out/bench_bit_zk.jld2\")\n",
    "#    bench_eps = load_object(\"bench_eps.jld2\")\n",
    "#    bench_eps_zk = load_object(\"../out/bench_eps_zk.jld2\")\n",
    "#    decompose4 = load_object(\"../out/decompose4-30.jld2\")\n",
    "#    bits4 = load_object(\"../out/bits4-30.jld2\")\n",
    "#    eps4 = load_object(\"../out/eps4-30.jld2\")\n",
    "\n",
    "#     bnb_zk = load_object(\"../out/bnb_zk.jld2\")\n",
    "    simple_zk = load_object(\"../out/greedy2_zk.jld2\")\n",
    "    redux_zk = load_object(\"../out/redux2_zk.jld2\")\n",
    "    simple = load_object(\"../out/greedy2.jld2\")\n",
    "    redux = load_object(\"../out/redux2.jld2\")\n",
    "    n_values = [4, 10, 15, 20, 25, 30, 35, 40]\n",
    "    n_4 = [4, 10, 15, 20, 25, 30]\n",
    "    bits = [1, 2, 4, 8, 16]\n",
    "    epsilon = [0.01, 0.05, 0.1, 0.3, 0.5]\n",
    "    a = []\n",
    "    name_i = 1\n",
    "    names = [\"red\", \"blue\", \"yellow\", \"black\", \"green\"]\n",
    "    solutions = [simple, redux, simple_zk, redux_zk]\n",
    "    ah = [\"Simple NK\", \"Redux NK\", \"Simple ZKC\", \"Redux ZKC\"]\n",
    "    for solution in solutions\n",
    "        z = []\n",
    "        for k in n_values\n",
    "            push!(z, solution[k])\n",
    "        end\n",
    "        push!(a, scatter(y=z, x=n_values, marker_color=names[name_i], name=ah[name_i]))\n",
    "        name_i += 1\n",
    "    end\n",
    "    layout = Layout(title=\"Comparison of greedy and redux heuristics, set repeated 1000 times\", xaxis_title=\"Number of items\", yaxis_title=\"Time in seconds\", showlegend=true)  \n",
    "\n",
    "    p = plot([a[i] for i in 1:size(a)[1]], layout)\n",
    "    savefig(p, \"../out/abc.png\")     \n",
    "end\n",
    "analyze()"
   ]
  },
  {
   "cell_type": "code",
   "execution_count": 3,
   "id": "7e2ed1b9",
   "metadata": {},
   "outputs": [
    {
     "data": {
      "text/plain": [
       "readSolution (generic function with 1 method)"
      ]
     },
     "execution_count": 3,
     "metadata": {},
     "output_type": "execute_result"
    }
   ],
   "source": [
    "function readSolution(filename::String)\n",
    "    solution = []\n",
    "    line = 0\n",
    "    open(filename) do f\n",
    "     while !eof(f)\n",
    "            s = readline(f)\n",
    "            line += 1\n",
    "            pieces = split(s, ' ')\n",
    "            ID = 0\n",
    "            n = 0\n",
    "            B = 0\n",
    "            try\n",
    "                ID = parse(Int64, pieces[1])\n",
    "                n = parse(Int64, pieces[2])\n",
    "                B = parse(Float64, pieces[3])\n",
    "            catch e\n",
    "                println(\"ERROR in parsing definition\")\n",
    "            end\n",
    "            push!(solution, (ID, n, B))\n",
    "    end\n",
    "    return solution\n",
    "end\n",
    "end\n"
   ]
  },
  {
   "cell_type": "code",
   "execution_count": 4,
   "id": "8c6fdd8b",
   "metadata": {},
   "outputs": [
    {
     "data": {
      "text/plain": [
       "@name (macro with 1 method)"
      ]
     },
     "execution_count": 4,
     "metadata": {},
     "output_type": "execute_result"
    }
   ],
   "source": [
    "macro name(arg)\n",
    "    x = string(arg)\n",
    "    quote\n",
    "        $x\n",
    "    end\n",
    "end\n"
   ]
  },
  {
   "cell_type": "code",
   "execution_count": 77,
   "id": "95ec4eb2",
   "metadata": {},
   "outputs": [
    {
     "name": "stdout",
     "output_type": "stream",
     "text": [
      "hey\n"
     ]
    }
   ],
   "source": [
    "hey = 3\n",
    "println(@name(hey))"
   ]
  },
  {
   "cell_type": "code",
   "execution_count": 115,
   "id": "8e6997ea",
   "metadata": {},
   "outputs": [
    {
     "name": "stdout",
     "output_type": "stream",
     "text": [
      "in 4 relative error is\t 0.01453364033065137\n",
      "in 4 maximum error is\t 1752.0\n",
      "in 10 relative error is\t 0.01304135768884159\n",
      "in 10 maximum error is\t 1324.0\n",
      "in 15 relative error is\t 0.00968409329705529\n",
      "in 15 maximum error is\t 1486.0\n",
      "in 20 relative error is\t 0.008604035471106143\n",
      "in 20 maximum error is\t 1329.0\n",
      "in 25 relative error is\t 0.007245278210501081\n",
      "in 25 maximum error is\t 1112.0\n",
      "in 30 relative error is\t 0.005290071717325174\n",
      "in 30 maximum error is\t 1106.0\n",
      "in 35 relative error is\t 0.005576913561674054\n",
      "in 35 maximum error is\t 1398.0\n",
      "in 40 relative error is\t 0.004816388963546329\n",
      "in 40 maximum error is\t 1036.0\n",
      "in 4 relative error is\t 0.37242146811789334\n",
      "in 4 maximum error is\t 2498.0\n",
      "in 10 relative error is\t 0.05174061929447297\n",
      "in 10 maximum error is\t 2499.0\n",
      "in 15 relative error is\t 0.035607005886055254\n",
      "in 15 maximum error is\t 2421.0\n",
      "in 20 relative error is\t 0.4312059182048803\n",
      "in 20 maximum error is\t 2434.0\n",
      "in 25 relative error is\t 0.021536374053557066\n",
      "in 25 maximum error is\t 2481.0\n",
      "in 30 relative error is\t 0.017154101181800243\n",
      "in 30 maximum error is\t 2479.0\n",
      "in 35 relative error is\t 0.008533902808985888\n",
      "in 35 maximum error is\t 2438.0\n",
      "in 40 relative error is\t 0.006816388963546325\n",
      "in 40 maximum error is\t 2489.0\n"
     ]
    },
    {
     "data": {
      "text/plain": [
       "\"../out/abs_all.png\""
      ]
     },
     "execution_count": 115,
     "metadata": {},
     "output_type": "execute_result"
    }
   ],
   "source": [
    "function err()\n",
    "    simple_err = load_object(\"../out/S_err.jld2\")\n",
    "    redux_err = load_object(\"../out/R_err.jld2\")\n",
    "#     bits_err = load_object(\"../out/bits_err.jld2\")\n",
    "#     eps_err = load_object(\"../out/eps_err.jld2\")\n",
    "    \n",
    "    method_name = [\"Simple greedy\", \"Redux greedy\"]\n",
    "    n_values = [4, 10, 15, 20, 25, 30, 35, 40]\n",
    "    bits = [1, 2, 4, 8, 16]\n",
    "    epsilon = [0.01, 0.05, 0.1, 0.3, 0.5]\n",
    "    methodz = [simple_err, redux_err]\n",
    "#     for i in 1:5\n",
    "#         push!(methodz, bits_err[bits[i]])\n",
    "#         push!(methodz, eps_err[epsilon[i]])\n",
    "#         push!(method_name, string(bits[i])*\" bits approximation.\")\n",
    "#         push!(method_name, string(epsilon[i])*\" eps approximation.\")\n",
    "#     end\n",
    "    res_rel = []\n",
    "    res_abs = []\n",
    "    solutions = Dict()\n",
    "    for n in n_values\n",
    "        filename = \"../data/NK/NK\"*string(n)*\"_sol.dat\"\n",
    "        solutions[n] = readSolution(filename)\n",
    "    end\n",
    "    met_i = 1\n",
    "    for met in methodz\n",
    "        perc = Dict()\n",
    "        x = []\n",
    "        p = []\n",
    "        relative = []\n",
    "        maximal = []\n",
    "        lines = []\n",
    "        for n in n_values\n",
    "            perc[n] = []\n",
    "            for i in 1:500\n",
    "                numeric_err = 1.0\n",
    "                if solutions[n][i][3] != 0\n",
    "                    numeric_err =  met[n][i] / solutions[n][i][3]\n",
    "                end\n",
    "                if solutions[n][i][3] == 0 && met[n][i] == 0\n",
    "                    numeric_err = 0.0\n",
    "                end\n",
    "                push!(perc[n], numeric_err)\n",
    "            end\n",
    "            sum_relative = sum(perc[n]) / 500\n",
    "            max_error = maximum(met[n])\n",
    "            push!(relative, sum_relative)\n",
    "            push!(maximal, max_error)\n",
    "            println(\"in \", n, \" relative error is\\t \", sum_relative)\n",
    "            println(\"in \", n, \" maximum error is\\t \", max_error)\n",
    "        end\n",
    "        push!(res_rel, scatter(x=n_values, y=relative, mode=\"lines\", name=method_name[met_i]))\n",
    "        push!(res_abs, scatter(x=n_values, y=maximal, mode=\"lines\", name=method_name[met_i]))\n",
    "        met_i += 1\n",
    "    end\n",
    "     p = plot(\n",
    "        [res_rel[i] for i in 1:size(res_rel)[1]],\n",
    "        Layout(yaxis_title=\"Relative error.\", xaxis_title=\"Number of items.\")\n",
    "        )\n",
    "\n",
    " #, res_rel[i] for i in 1:size(res_rel)[1]],\n",
    "    savefig(p, \"../out/relf.png\")\n",
    "    \n",
    "    p = plot(\n",
    "        [res_abs[i] for i in 1:size(res_abs)[1]],\n",
    "        Layout(yaxis_title=\"Absolute error.\", xaxis_title=\"Number of items.\")\n",
    "        )\n",
    "    savefig(p, \"../out/abs_all.png\")\n",
    "end\n",
    " \n",
    "    \n",
    "err()"
   ]
  },
  {
   "cell_type": "code",
   "execution_count": 50,
   "id": "7c975c95",
   "metadata": {},
   "outputs": [
    {
     "data": {
      "text/plain": [
       "\"../out/nk_eps_max.png\""
      ]
     },
     "execution_count": 50,
     "metadata": {},
     "output_type": "execute_result"
    }
   ],
   "source": [
    "function err()\n",
    "    bits_err = load_object(\"../out/bits_smh_nk.jld2\")\n",
    "    bits_exp = load_object(\"../out/bits_other_nk.jld2\")\n",
    "    eps_err = load_object(\"../out/eps_smh_nk.jld2\")\n",
    "    eps_exp = load_object(\"../out/eps_other_nk.jld2\")\n",
    "    method_name = []\n",
    "    n_values = [4, 10, 15, 20, 25, 30, 35, 40]\n",
    "    bits = [1, 2, 4, 8]#, 16]\n",
    "    epsilon = [0.01, 0.05, 0.1, 0.3]#, 0.5]\n",
    "    methodz = []\n",
    "    for i in 1:4\n",
    "#         push!(methodz, bits_err[bits[i]])\n",
    "#         push!(methodz, bits_exp[bits[i]])\n",
    "#         push!(methodz, eps_err[epsilon[i]])\n",
    "        push!(method_name, string(epsilon[i])*\" approximation.\")\n",
    "#         push!(method_name, string(epsilon[i])*\" eps approximation.\")\n",
    "    end\n",
    "    res_rel = []\n",
    "    res_abs = []\n",
    "    met_i = 1\n",
    "    for i in 1:4\n",
    "        relative = []\n",
    "        maximal = []\n",
    "        for n in n_values\n",
    "            push!(relative, sum(eps_err[epsilon[i]][n])/500)\n",
    "            push!(maximal, eps_exp[epsilon[i]][n][1])\n",
    "        end\n",
    "        push!(res_rel, scatter(x=n_values, y=relative, mode=\"lines\", name=method_name[met_i]))\n",
    "        push!(res_abs, scatter(x=n_values, y=maximal, mode=\"lines\", name=method_name[met_i]))\n",
    "        met_i += 1\n",
    "    end\n",
    "     p = plot(\n",
    "        [res_rel[i] for i in 1:size(res_rel)[1]],\n",
    "        Layout(title=\"Average relative error for FPTAS.\", yaxis_type = \"log\", yaxis_title=\"Average error.\", xaxis_title=\"Number of items.\")\n",
    "        )\n",
    "\n",
    " #, res_rel[i] for i in 1:size(res_rel)[1]],\n",
    "    savefig(p, \"../out/nk_eps_avg.png\")\n",
    "    p = plot(\n",
    "        [res_abs[i] for i in 1:size(res_abs)[1]],\n",
    "        Layout(title=\"Maximal relative error for FPTAS.\", yaxis_type = \"log\", yaxis_title=\"Maximal error.\", xaxis_title=\"Number of items.\")\n",
    "        )\n",
    "\n",
    " #, res_rel[i] for i in 1:size(res_rel)[1]],\n",
    "    savefig(p, \"../out/nk_eps_max.png\")\n",
    "end\n",
    " \n",
    "    \n",
    "err()\n"
   ]
  },
  {
   "cell_type": "code",
   "execution_count": 13,
   "id": "4cf418ac",
   "metadata": {
    "collapsed": true
   },
   "outputs": [
    {
     "name": "stdout",
     "output_type": "stream",
     "text": [
      "1\n"
     ]
    },
    {
     "data": {
      "text/plain": [
       "\"../out/pls_nk.png\""
      ]
     },
     "execution_count": 13,
     "metadata": {},
     "output_type": "execute_result"
    }
   ],
   "source": [
    "function err2()\n",
    "    bits_err = load_object(\"../out/bits_smh_nk.jld2\")\n",
    "    bits_other = load_object(\"../out/bits_other_nk.jld2\")\n",
    "    \n",
    "    method_name = []#\"Simple greedy\", \"Redux greedy\"]\n",
    "    n_values = [20]#4, 10, 15, 20, 25, 30, 35, 40]\n",
    "    bits = [1, 2, 4, 8, 16]\n",
    "    eps = [0.01, 0.05, 0.1, 0.3, 0.5]\n",
    "    methodz = []#simple_err, redux_err]\n",
    "    for i in 1:1\n",
    "        push!(methodz, bits_err[eps[i]])\n",
    "#         push!(methodz, bits_other[eps[i]])\n",
    "        push!(method_name, \"Real error, epsilon \"*string(eps[i]))\n",
    "#         push!(method_name, \"Maximal expected error, epsilon \"*string(eps[i]))\n",
    "    end\n",
    "    res_rel = []\n",
    "    res_abs = []\n",
    "\n",
    "    for met_i in 1:1\n",
    "        println(met_i)\n",
    "        real = []\n",
    "        theory = []\n",
    "        r = methodz[met_i]\n",
    "#         t = methodz[met_i + 1]\n",
    "        push!(res_rel, scatter(x=1:500, y=r[20][1:500], mode=\"lines\", name=method_name[met_i]))\n",
    "#         push!(res_rel, scatter(x=1:500, y=t[20][1:500], mode=\"markers\", name=method_name[met_i + 1]))\n",
    "    end\n",
    "        p = plot(\n",
    "        [res_rel[i] for i in 1:size(res_rel)[1]],\n",
    "        Layout(title=\"Real and maximal expected error.\", yaxis_title=\"Error.\", xaxis_title=\"Instance.\")\n",
    "        )\n",
    "        savefig(p, \"../out/pls_nk.png\")\n",
    " \n",
    "\n",
    "end\n",
    " \n",
    "    \n",
    "err2()\n"
   ]
  },
  {
   "cell_type": "code",
   "execution_count": 94,
   "id": "c2bc1bdd",
   "metadata": {},
   "outputs": [
    {
     "data": {
      "text/plain": [
       "\"../out/tst.png\""
      ]
     },
     "execution_count": 94,
     "metadata": {},
     "output_type": "execute_result"
    }
   ],
   "source": [
    "function err()\n",
    "    simple_err = load_object(\"../out/S_err_zk.jld2\")\n",
    "    redux_err = load_object(\"../out/R_err_zk.jld2\")\n",
    "    method_name = [\"Simple greedy\", \"Redux greedy\"]\n",
    "    n_values = [4, 10, 15, 20, 25, 30, 35, 40]\n",
    "\n",
    "    methodz = [simple_err, redux_err]\n",
    "    names = [\"red\", \"blue\"]\n",
    "    name_i = 1\n",
    "    x = []\n",
    "    \n",
    "    for solution in methodz\n",
    "        df = DataFrame(;[Symbol(k)=>convert(Array{Float64,1}, v) for (k,v) in solution]...)\n",
    "        for k in n_values\n",
    "            push!(x, \n",
    "                box(y=df[!,string(k)], name=string(k)*\" \"*method_name[name_i], marker_color=names[name_i]))\n",
    "            \n",
    "        end    \n",
    "        name_i += 1\n",
    "    end\n",
    "    layout = Layout(title=\"Relative error using greedy methods\", yaxis_title=\"Relative error\", showlegend=false)\n",
    "    p = plot([x[i] for i in 1:size(x)[1]], layout)\n",
    "    savefig(p, \"../out/tst.png\")    \n",
    "\n",
    "end\n",
    " \n",
    "    \n",
    "err()\n"
   ]
  },
  {
   "cell_type": "code",
   "execution_count": 111,
   "id": "1c075e90",
   "metadata": {},
   "outputs": [
    {
     "data": {
      "text/plain": [
       "\"../out/eps_nk.png\""
      ]
     },
     "execution_count": 111,
     "metadata": {},
     "output_type": "execute_result"
    }
   ],
   "source": [
    "function analyze()\n",
    "    #    bench_bit = load_object(\"bench_bit.jld2\")\n",
    "    #    bench_bit_zk = load_object(\"bench_bit_zk.jld2\")\n",
    "    #    bench_eps = load_object(\"bench_eps.jld2\")\n",
    "    #    bench_eps_zk = load_object(\"../out/bench_eps_zk.jld2\")\n",
    "    bits4 = load_object(\"../out/bits_time.jld2\")\n",
    "    eps4 = load_object(\"../out/eps_time.jld2\")\n",
    "    n_values = [4, 10, 15, 20, 25, 30, 35, 40]\n",
    "    bit = [1, 2, 4]#, 8, 16]\n",
    "    epsilon = [0.01, 0.05, 0.1]#, 0.3, 0.5]\n",
    "    solutions = [bits4, eps4]\n",
    "    names = [\"red\", \"blue\", \"yellow\", \"black\"]\n",
    "    methods = [\"bits\", \"epsilon\"]\n",
    "    name_i = 1\n",
    "    x = []\n",
    "    for b in bit\n",
    "        df = DataFrame(;[Symbol(k)=>convert(Array{Float64,1}, v) for (k,v) in bits4[b]]...)\n",
    "        for k in n_values\n",
    "            push!(x, \n",
    "                box(y=df[!,string(k)], name=k, marker_color=names[name_i]))#names[name_i]))\n",
    "\n",
    "        end    \n",
    "        name_i += 1\n",
    "    end\n",
    "    layout = Layout(title=\"Computation time bit approximation\", yaxis_type = \"log\", xaxis_title=\"Number of items\", yaxis_title=\"Log time in seconds\", showlegend=false)\n",
    "    p = plot([x[i] for i in 1:size(x)[1]], layout)\n",
    "    savefig(p, \"../out/bit_nk.png\")    \n",
    "    \n",
    "    name_i = 1\n",
    "    x = []\n",
    "    for b in epsilon\n",
    "        df = DataFrame(;[Symbol(k)=>convert(Array{Float64,1}, v) for (k,v) in eps4[b]]...)\n",
    "        for k in n_values\n",
    "            push!(x, \n",
    "                box(y=df[!,string(k)], name=k, marker_color=names[name_i]))#names[name_i]))\n",
    "\n",
    "        end    \n",
    "        name_i += 1\n",
    "    end\n",
    "    layout = Layout(title=\"Computation time epsilon approximation\", yaxis_type = \"log\", xaxis_title=\"Number of items\", yaxis_title=\"Log time in seconds\", showlegend=false)\n",
    "    p = plot([x[i] for i in 1:size(x)[1]], layout)\n",
    "    savefig(p, \"../out/eps_nk.png\")    \n",
    "end\n",
    "analyze()"
   ]
  },
  {
   "cell_type": "code",
   "execution_count": null,
   "id": "2cb91e16",
   "metadata": {},
   "outputs": [],
   "source": []
  }
 ],
 "metadata": {
  "kernelspec": {
   "display_name": "Julia 1.5.3",
   "language": "julia",
   "name": "julia-1.5"
  },
  "language_info": {
   "file_extension": ".jl",
   "mimetype": "application/julia",
   "name": "julia",
   "version": "1.5.3"
  }
 },
 "nbformat": 4,
 "nbformat_minor": 5
}
